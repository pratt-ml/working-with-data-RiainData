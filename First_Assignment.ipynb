{
 "cells": [
  {
   "cell_type": "code",
   "execution_count": null,
   "metadata": {},
   "outputs": [],
   "source": [
    "import pandas as pd\n",
    "import matplotlib.pyplot as plt\n",
    "\n",
    "# Load data\n",
    "\n",
    "\n",
    "df_artworks = pd.read_csv('Artworks.csv')\n",
    "df_artists = pd.read_csv('Artists.csv')\n"
   ]
  },
  {
   "cell_type": "code",
   "execution_count": null,
   "metadata": {},
   "outputs": [],
   "source": [
    "df_artworks.head(5)\n"
   ]
  },
  {
   "cell_type": "code",
   "execution_count": null,
   "metadata": {},
   "outputs": [],
   "source": [
    "df_artists.head(20)"
   ]
  },
  {
   "cell_type": "code",
   "execution_count": null,
   "metadata": {},
   "outputs": [],
   "source": [
    "print (\"nulls in artworks.csv\")\n",
    "df_artworks.isnull().sum()\n"
   ]
  },
  {
   "cell_type": "code",
   "execution_count": null,
   "metadata": {},
   "outputs": [],
   "source": [
    "print(\"nulls in artists.csv\")\n",
    "df_artists.isnull().sum()"
   ]
  },
  {
   "cell_type": "code",
   "execution_count": null,
   "metadata": {},
   "outputs": [],
   "source": [
    "# Print column names for df_artworks\n",
    "print(\"Columns in df_artworks:\")\n",
    "print(df_artworks.columns)\n",
    "\n",
    "# Print column names for df_artists\n",
    "print(\"\\nColumns in df_artists:\")\n",
    "print(df_artists.columns)"
   ]
  },
  {
   "cell_type": "code",
   "execution_count": null,
   "metadata": {},
   "outputs": [],
   "source": [
    "# Check data types for df_artworks\n",
    "print(\"Data types in df_artworks:\")\n",
    "print(df_artworks.dtypes)"
   ]
  },
  {
   "cell_type": "markdown",
   "metadata": {},
   "source": [
    "I am having some issues with changing datatypes in the artworks dataset. Python seems to give me errors telling me it cannot parse. I am slightly confused as it seemed to work the first time I worked with this notebook but when I came back again it started giving me errors. I am currently working to imrpove my python abilities enought to reliably troubleshoot this kind of problem. One possible solution I came across was using errors=coerce, but I need to understand what this does first. "
   ]
  },
  {
   "cell_type": "code",
   "execution_count": null,
   "metadata": {},
   "outputs": [],
   "source": [
    "#changing datatypes in artworks dataframe\n",
    "\n",
    "df_artworks['ConstituentID'] = pd.to_numeric(df_artworks['ConstituentID'])\n",
    "df_artworks['BeginDate'] = pd.to_datetime(df_artworks['BeginDate'])\n",
    "df_artworks['EndDate'] = pd.to_datetime(df_artworks['EndDate'])\n",
    "df_artworks['Date'] = pd.to_datetime(df_artworks['Date'])\n",
    "df_artworks['DateAcquired'] = pd.to_datetime(df_artworks['DateAcquired'])\n",
    "\n",
    "print(\" New Data types in df_artworks:\")\n",
    "print(df_artworks.dtypes)\n"
   ]
  },
  {
   "cell_type": "code",
   "execution_count": null,
   "metadata": {},
   "outputs": [],
   "source": [
    "#investigating the on view column to see what is entered there and verify that object is appropriate and not booleon or something else. \n",
    "on_view_values = df_artworks['OnView'].unique()\n",
    "print(on_view_values)\n",
    "# result shown suggests object is appropriate datatype"
   ]
  },
  {
   "cell_type": "code",
   "execution_count": null,
   "metadata": {},
   "outputs": [],
   "source": [
    "# Check data types for df_artists\n",
    "print(\"\\nData types in df_artists:\")\n",
    "print(df_artists.dtypes)"
   ]
  },
  {
   "cell_type": "code",
   "execution_count": null,
   "metadata": {},
   "outputs": [],
   "source": [
    "#change\n",
    "df_artists['BeginDate'] = pd.to_datetime(df_artists['BeginDate'])\n",
    "df_artists['EndDate'] = pd.to_datetime(df_artists['EndDate'])\n",
    "#check\n",
    "print(df_artists.dtypes)"
   ]
  },
  {
   "cell_type": "code",
   "execution_count": null,
   "metadata": {},
   "outputs": [],
   "source": [
    "#plotting the categorical columns in artists dataframe \n",
    "\n",
    "# First plot\n",
    "df_artists['Nationality'].value_counts().plot(kind='bar', color='firebrick')\n",
    "plt.title('Distribution of Nationality in Artists Dataset')\n",
    "plt.xlabel('Nationality')\n",
    "plt.ylabel('Count')\n",
    "plt.show()\n",
    "\n",
    "# Second plot\n",
    "df_artists['Gender'].value_counts().plot(kind='bar', color='darkred')\n",
    "plt.title('Distribution of Gender in Artists Dataset')\n",
    "plt.xlabel('Gender')\n",
    "plt.ylabel('Count')\n",
    "plt.show()"
   ]
  },
  {
   "cell_type": "code",
   "execution_count": null,
   "metadata": {},
   "outputs": [],
   "source": [
    "nationality_counts = df_artists['Nationality'].value_counts()\n",
    "\n",
    "top_5_nationalities = nationality_counts.head(5)\n",
    "\n",
    "print(top_5_nationalities)"
   ]
  },
  {
   "cell_type": "code",
   "execution_count": null,
   "metadata": {},
   "outputs": [],
   "source": [
    "# Create a subset where Gender is 'Male'\n",
    "male_artists = df_artists[df_artists['Gender'] == 'male']\n",
    "# Display the first few rows to check the result\n",
    "print(male_artists.head(7))\n"
   ]
  },
  {
   "cell_type": "code",
   "execution_count": null,
   "metadata": {},
   "outputs": [],
   "source": [
    "# Calculate the top 5 nationalities for male artists\n",
    "top_5_nationalities_male = male_artists['Nationality'].value_counts().head(5)\n",
    "\n",
    "# Display the result\n",
    "print(top_5_nationalities_male)\n"
   ]
  },
  {
   "cell_type": "code",
   "execution_count": null,
   "metadata": {},
   "outputs": [],
   "source": [
    "# Plot a bar chart for the top 5 nationalities of male artists\n",
    "top_5_nationalities_male.plot(kind='bar', color='red')"
   ]
  },
  {
   "cell_type": "code",
   "execution_count": null,
   "metadata": {},
   "outputs": [],
   "source": [
    "# Create a subset where Gender is 'female'\n",
    "female_artists = df_artists[df_artists['Gender'] == 'female']\n",
    "# Display the first few rows to check the result\n",
    "print(male_artists.head(7))"
   ]
  },
  {
   "cell_type": "code",
   "execution_count": null,
   "metadata": {},
   "outputs": [],
   "source": [
    "# Calculate the top 5 nationalities for male artists\n",
    "top_5_nationalities_female = female_artists['Nationality'].value_counts().head(5)\n",
    "\n",
    "# Display the result\n",
    "print(top_5_nationalities_female)"
   ]
  },
  {
   "cell_type": "code",
   "execution_count": null,
   "metadata": {},
   "outputs": [],
   "source": [
    "top_5_nationalities_female.plot(kind='bar', color='red')"
   ]
  },
  {
   "cell_type": "code",
   "execution_count": null,
   "metadata": {},
   "outputs": [],
   "source": [
    "# Merge df_artists and df_artworks on 'Constituent ID'\n",
    "df_merged = pd.merge(df_artists, df_artworks, on='ConstituentID', how='inner')\n",
    "\n",
    "# Display the first few rows of the merged DataFrame\n",
    "print(df_merged.head())\n"
   ]
  },
  {
   "cell_type": "code",
   "execution_count": null,
   "metadata": {},
   "outputs": [],
   "source": [
    "# Filter the df_artists DataFrame to include only French artists\n",
    "df_french_artists = df_artists[df_artists['Nationality'] == 'French']\n",
    "\n",
    "# Display the filtered DataFrame\n",
    "print(df_french_artists.head(10))\n"
   ]
  },
  {
   "cell_type": "code",
   "execution_count": null,
   "metadata": {},
   "outputs": [],
   "source": [
    "#I was curious which French artists feature most often in the colelction\n",
    "\n",
    "french_artist_count = df_merged['DisplayName'].value_counts()\n",
    "\n",
    "top_5_french = french_artist_count.head(5)\n",
    "\n",
    "print(top_5_french)\n"
   ]
  },
  {
   "cell_type": "code",
   "execution_count": null,
   "metadata": {},
   "outputs": [],
   "source": [
    "top_5_french.plot(kind='bar', color='red')"
   ]
  }
 ],
 "metadata": {
  "kernelspec": {
   "display_name": "Python 3",
   "language": "python",
   "name": "python3"
  },
  "language_info": {
   "codemirror_mode": {
    "name": "ipython",
    "version": 3
   },
   "file_extension": ".py",
   "mimetype": "text/x-python",
   "name": "python",
   "nbconvert_exporter": "python",
   "pygments_lexer": "ipython3",
   "version": "3.12.1"
  }
 },
 "nbformat": 4,
 "nbformat_minor": 2
}
